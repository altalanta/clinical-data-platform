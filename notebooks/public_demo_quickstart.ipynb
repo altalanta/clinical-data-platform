{
 "cells": [
  {
   "cell_type": "markdown",
   "metadata": {
    "colab_type": "text",
    "id": "view-in-github"
   },
   "source": [
    "<a href=\"https://colab.research.google.com/github/altalanta/clinical-data-platform/blob/main/notebooks/public_demo_quickstart.ipynb\" target=\"_parent\"><img src=\"https://colab.research.google.com/assets/colab-badge.svg\" alt=\"Open In Colab\"/></a>"
   ]
  },
  {
   "cell_type": "markdown",
   "metadata": {
    "id": "title"
   },
   "source": [
    "# 🏥 Clinical Data Platform - Public Demo Quickstart\n",
    "\n",
    "This notebook demonstrates the clinical data platform using **synthetic OMOP CDM data**. No PHI or real patient data is used.\n",
    "\n",
    "**What you'll see:**\n",
    "- Synthetic patient demographics, visits, conditions, and measurements\n",
    "- Data quality validation with Great Expectations and Pandera\n",
    "- Analytics-ready data transformations with dbt\n",
    "- Comprehensive data quality metrics\n",
    "\n",
    "**Runtime:** ~3-5 minutes"
   ]
  },
  {
   "cell_type": "markdown",
   "metadata": {
    "id": "setup"
   },
   "source": [
    "## 🚀 Setup\n",
    "\n",
    "First, let's install the required dependencies and clone the repository:"
   ]
  },
  {
   "cell_type": "code",
   "execution_count": null,
   "metadata": {
    "id": "install_deps"
   },
   "outputs": [],
   "source": [
    "# Install required packages\n",
    "!pip install -q duckdb pandas numpy great-expectations pandera matplotlib seaborn\n",
    "\n",
    "# Clone the repository\n",
    "!git clone --depth 1 https://github.com/altalanta/clinical-data-platform.git\n",
    "%cd clinical-data-platform\n",
    "\n",
    "# Install the platform package\n",
    "!pip install -q -e ."
   ]
  },
  {
   "cell_type": "markdown",
   "metadata": {
    "id": "imports"
   },
   "source": [
    "## 📦 Import Libraries"
   ]
  },
  {
   "cell_type": "code",
   "execution_count": null,
   "metadata": {
    "id": "import_libs"
   },
   "outputs": [],
   "source": [
    "import sys\n",
    "import json\n",
    "import pandas as pd\n",
    "import numpy as np\n",
    "import duckdb\n",
    "import matplotlib.pyplot as plt\n",
    "import seaborn as sns\n",
    "from pathlib import Path\n",
    "\n",
    "# Add src to path for imports\n",
    "sys.path.insert(0, str(Path.cwd() / 'src'))\n",
    "\n",
    "from clinical_platform.data_adapters.public_cdm import PublicCDMAdapter\n",
    "from clinical_data_platform.validation.pandera_public import PublicCDMSchemas, validate_public_cdm_data\n",
    "\n",
    "print(\"✅ All imports successful!\")"
   ]
  },
  {
   "cell_type": "markdown",
   "metadata": {
    "id": "generate_data"
   },
   "source": [
    "## 🎲 Generate Synthetic Clinical Data\n",
    "\n",
    "Let's create realistic synthetic OMOP CDM data:"
   ]
  },
  {
   "cell_type": "code",
   "execution_count": null,
   "metadata": {
    "id": "create_adapter"
   },
   "outputs": [],
   "source": [
    "# Initialize the adapter with fast mode for Colab\n",
    "adapter = PublicCDMAdapter(seed=42, fast_mode=True)\n",
    "\n",
    "print(\"🏭 Generating synthetic OMOP CDM data...\")\n",
    "print(\"   - Person demographics\")\n",
    "print(\"   - Visit occurrences\")\n",
    "print(\"   - Condition diagnoses\")\n",
    "print(\"   - Laboratory measurements\")\n",
    "\n",
    "# Generate the data files\n",
    "adapter.fetch(target_dir=\"data/public_cdm\")\n",
    "\n",
    "print(\"\\n✅ Synthetic data generated successfully!\")"
   ]
  },
  {
   "cell_type": "markdown",
   "metadata": {
    "id": "load_data"
   },
   "source": [
    "## 📊 Load and Explore the Data"
   ]
  },
  {
   "cell_type": "code",
   "execution_count": null,
   "metadata": {
    "id": "load_tables"
   },
   "outputs": [],
   "source": [
    "# Load the generated CSV files\n",
    "person_df = pd.read_csv(\"data/public_cdm/person.csv\")\n",
    "visit_df = pd.read_csv(\"data/public_cdm/visit_occurrence.csv\")\n",
    "condition_df = pd.read_csv(\"data/public_cdm/condition_occurrence.csv\")\n",
    "measurement_df = pd.read_csv(\"data/public_cdm/measurement.csv\")\n",
    "\n",
    "# Convert date columns\n",
    "for df in [person_df, visit_df, condition_df, measurement_df]:\n",
    "    for col in df.columns:\n",
    "        if 'date' in col.lower() or col == 'birth_datetime':\n",
    "            df[col] = pd.to_datetime(df[col], errors='coerce')\n",
    "\n",
    "print(\"📋 Dataset Summary:\")\n",
    "print(f\"   👥 Persons: {len(person_df):,}\")\n",
    "print(f\"   🏥 Visits: {len(visit_df):,}\")\n",
    "print(f\"   🩺 Conditions: {len(condition_df):,}\")\n",
    "print(f\"   🧪 Measurements: {len(measurement_df):,}\")"
   ]
  },
  {
   "cell_type": "markdown",
   "metadata": {
    "id": "data_preview"
   },
   "source": [
    "### Sample Data Preview"
   ]
  },
  {
   "cell_type": "code",
   "execution_count": null,
   "metadata": {
    "id": "preview_person"
   },
   "outputs": [],
   "source": [
    "print(\"👥 Sample Person Records:\")\n",
    "display(person_df[['person_id', 'gender_concept_id', 'year_of_birth', 'race_concept_id']].head())\n",
    "\n",
    "print(\"\\n🏥 Sample Visit Records:\")\n",
    "display(visit_df[['visit_occurrence_id', 'person_id', 'visit_concept_id', 'visit_start_date', 'visit_end_date']].head())"
   ]
  },
  {
   "cell_type": "markdown",
   "metadata": {
    "id": "validation"
   },
   "source": [
    "## ✅ Data Quality Validation\n",
    "\n",
    "Let's run comprehensive data quality checks using Pandera schemas:"
   ]
  },
  {
   "cell_type": "code",
   "execution_count": null,
   "metadata": {
    "id": "run_validation"
   },
   "outputs": [],
   "source": [
    "print(\"🔍 Running data quality validation...\")\n",
    "\n",
    "# Run pandera validation\n",
    "validation_results = validate_public_cdm_data(\n",
    "    person_df=person_df,\n",
    "    visit_df=visit_df,\n",
    "    condition_df=condition_df,\n",
    "    measurement_df=measurement_df\n",
    ")\n",
    "\n",
    "print(\"\\n📊 Validation Results:\")\n",
    "for table_name, result in validation_results.items():\n",
    "    status_emoji = \"✅\" if result['status'] == 'passed' else \"❌\"\n",
    "    print(f\"   {status_emoji} {table_name}: {result['status']} ({result['row_count']:,} rows)\")\n",
    "    \n",
    "    if result['errors']:\n",
    "        for error in result['errors'][:3]:  # Show first 3 errors\n",
    "            print(f\"      - {error}\")\n",
    "        if len(result['errors']) > 3:\n",
    "            print(f\"      ... and {len(result['errors']) - 3} more errors\")\n",
    "\n",
    "# Check overall validation status\n",
    "all_passed = all(result['status'] == 'passed' for result in validation_results.values())\n",
    "print(f\"\\n🎯 Overall Status: {'✅ ALL VALIDATIONS PASSED' if all_passed else '❌ Some validations failed'}\")"
   ]
  },
  {
   "cell_type": "markdown",
   "metadata": {
    "id": "analytics"
   },
   "source": [
    "## 📈 Data Analytics & Insights\n",
    "\n",
    "Let's create some analytics on our synthetic clinical data:"
   ]
  },
  {
   "cell_type": "code",
   "execution_count": null,
   "metadata": {
    "id": "demographics_analysis"
   },
   "outputs": [],
   "source": [
    "# Set up plotting style\n",
    "plt.style.use('default')\n",
    "sns.set_palette(\"husl\")\n",
    "\n",
    "# Create demographic analysis\n",
    "fig, axes = plt.subplots(2, 2, figsize=(15, 10))\n",
    "fig.suptitle('📊 Synthetic Patient Demographics Analysis', fontsize=16, fontweight='bold')\n",
    "\n",
    "# Age distribution\n",
    "current_year = 2024\n",
    "ages = current_year - person_df['year_of_birth']\n",
    "axes[0, 0].hist(ages, bins=20, alpha=0.7, color='skyblue', edgecolor='black')\n",
    "axes[0, 0].set_title('Age Distribution')\n",
    "axes[0, 0].set_xlabel('Age (years)')\n",
    "axes[0, 0].set_ylabel('Count')\n",
    "\n",
    "# Gender distribution\n",
    "gender_mapping = {8507: 'Male', 8532: 'Female', 8551: 'Unknown', 0: 'Other'}\n",
    "gender_counts = person_df['gender_concept_id'].map(gender_mapping).value_counts()\n",
    "axes[0, 1].pie(gender_counts.values, labels=gender_counts.index, autopct='%1.1f%%', startangle=90)\n",
    "axes[0, 1].set_title('Gender Distribution')\n",
    "\n",
    "# Visit types\n",
    "visit_mapping = {9201: 'Inpatient', 9202: 'Outpatient', 9203: 'Emergency'}\n",
    "visit_counts = visit_df['visit_concept_id'].map(visit_mapping).value_counts()\n",
    "axes[1, 0].bar(visit_counts.index, visit_counts.values, color=['lightcoral', 'lightgreen', 'lightsalmon'])\n",
    "axes[1, 0].set_title('Visit Types')\n",
    "axes[1, 0].set_ylabel('Count')\n",
    "axes[1, 0].tick_params(axis='x', rotation=45)\n",
    "\n",
    "# Length of stay distribution\n",
    "los_days = (visit_df['visit_end_date'] - visit_df['visit_start_date']).dt.days\n",
    "axes[1, 1].hist(los_days[los_days <= 30], bins=20, alpha=0.7, color='lightsteelblue', edgecolor='black')\n",
    "axes[1, 1].set_title('Length of Stay (≤30 days)')\n",
    "axes[1, 1].set_xlabel('Days')\n",
    "axes[1, 1].set_ylabel('Count')\n",
    "\n",
    "plt.tight_layout()\n",
    "plt.show()\n",
    "\n",
    "print(f\"📊 Key Statistics:\")\n",
    "print(f\"   📅 Age Range: {ages.min():.0f} - {ages.max():.0f} years\")\n",
    "print(f\"   🏥 Avg Visits per Patient: {len(visit_df) / len(person_df):.1f}\")\n",
    "print(f\"   🩺 Avg Conditions per Patient: {len(condition_df) / len(person_df):.1f}\")\n",
    "print(f\"   🧪 Avg Measurements per Patient: {len(measurement_df) / len(person_df):.1f}\")"
   ]
  },
  {
   "cell_type": "markdown",
   "metadata": {
    "id": "database_demo"
   },
   "source": [
    "## 🗄️ Database Operations with DuckDB\n",
    "\n",
    "Let's load the data into DuckDB and run some analytical queries:"
   ]
  },
  {
   "cell_type": "code",
   "execution_count": null,
   "metadata": {
    "id": "duckdb_operations"
   },
   "outputs": [],
   "source": [
    "# Create DuckDB connection\n",
    "conn = duckdb.connect('colab_demo.duckdb')\n",
    "\n",
    "print(\"🗄️ Loading data into DuckDB...\")\n",
    "\n",
    "# Load data into DuckDB\n",
    "conn.execute(\"CREATE TABLE person AS SELECT * FROM person_df\")\n",
    "conn.execute(\"CREATE TABLE visit_occurrence AS SELECT * FROM visit_df\")\n",
    "conn.execute(\"CREATE TABLE condition_occurrence AS SELECT * FROM condition_df\")\n",
    "conn.execute(\"CREATE TABLE measurement AS SELECT * FROM measurement_df\")\n",
    "\n",
    "print(\"✅ Data loaded successfully!\")\n",
    "\n",
    "# Run analytical queries\n",
    "print(\"\\n🔍 Running analytical queries...\")\n",
    "\n",
    "# Patient summary query\n",
    "query = \"\"\"\n",
    "SELECT \n",
    "    COUNT(*) as total_patients,\n",
    "    AVG(2024 - year_of_birth) as avg_age,\n",
    "    COUNT(DISTINCT CASE WHEN gender_concept_id = 8507 THEN person_id END) as male_count,\n",
    "    COUNT(DISTINCT CASE WHEN gender_concept_id = 8532 THEN person_id END) as female_count\n",
    "FROM person\n",
    "\"\"\"\n",
    "\n",
    "result = conn.execute(query).fetchone()\n",
    "print(f\"   👥 Total Patients: {result[0]:,}\")\n",
    "print(f\"   📅 Average Age: {result[1]:.1f} years\")\n",
    "print(f\"   👨 Male Patients: {result[2]:,}\")\n",
    "print(f\"   👩 Female Patients: {result[3]:,}\")\n",
    "\n",
    "# Visit patterns\n",
    "visit_query = \"\"\"\n",
    "SELECT \n",
    "    visit_concept_id,\n",
    "    COUNT(*) as visit_count,\n",
    "    AVG(visit_end_date - visit_start_date) as avg_length_of_stay\n",
    "FROM visit_occurrence \n",
    "GROUP BY visit_concept_id\n",
    "ORDER BY visit_count DESC\n",
    "\"\"\"\n",
    "\n",
    "visit_results = conn.execute(visit_query).fetchall()\n",
    "print(\"\\n🏥 Visit Patterns:\")\n",
    "for visit_type, count, avg_los in visit_results:\n",
    "    visit_name = visit_mapping.get(visit_type, f\"Type {visit_type}\")\n",
    "    print(f\"   {visit_name}: {count:,} visits (avg LOS: {avg_los:.1f} days)\")\n",
    "\n",
    "# Close connection\n",
    "conn.close()\n",
    "print(\"\\n✅ Database operations completed!\")"
   ]
  },
  {
   "cell_type": "markdown",
   "metadata": {
    "id": "summary"
   },
   "source": [
    "## 🎯 Summary & Next Steps\n",
    "\n",
    "### What we accomplished:\n",
    "✅ Generated realistic synthetic OMOP CDM data  \n",
    "✅ Validated data quality with comprehensive schemas  \n",
    "✅ Created demographic and clinical analytics  \n",
    "✅ Demonstrated database operations with DuckDB  \n",
    "\n",
    "### Key Features Demonstrated:\n",
    "- **No PHI**: 100% synthetic data, safe for public demos\n",
    "- **OMOP CDM Compliance**: Follows healthcare data standards\n",
    "- **Data Quality**: Comprehensive validation with Great Expectations & Pandera\n",
    "- **Analytics Ready**: Structured for downstream ML and analytics\n",
    "- **Fast & Lightweight**: Generates complete dataset in minutes\n",
    "\n",
    "### Try it yourself:\n",
    "1. **GitHub Codespaces**: [![Open in GitHub Codespaces](https://github.com/codespaces/badge.svg)](https://codespaces.new/altalanta/clinical-data-platform?quickstart=1)\n",
    "2. **Local Setup**: `git clone` → `make demo-public`\n",
    "3. **Full Pipeline**: Includes dbt transformations, Great Expectations, and data docs\n",
    "\n",
    "---\n",
    "\n",
    "**🏥 Clinical Data Platform** - Production-ready healthcare data infrastructure with privacy-first design."
   ]
  },
  {
   "cell_type": "code",
   "execution_count": null,
   "metadata": {
    "id": "final_metrics"
   },
   "outputs": [],
   "source": [
    "# Final metrics summary\n",
    "metrics_summary = {\n",
    "    \"demo_completed\": True,\n",
    "    \"data_quality_passed\": all_passed,\n",
    "    \"total_patients\": len(person_df),\n",
    "    \"total_visits\": len(visit_df),\n",
    "    \"total_conditions\": len(condition_df),\n",
    "    \"total_measurements\": len(measurement_df),\n",
    "    \"avg_age\": float(ages.mean()),\n",
    "    \"gender_distribution\": gender_counts.to_dict(),\n",
    "    \"visit_distribution\": visit_counts.to_dict()\n",
    "}\n",
    "\n",
    "print(\"📋 Final Demo Metrics:\")\n",
    "print(json.dumps(metrics_summary, indent=2, default=str))\n",
    "\n",
    "print(\"\\n🎉 Demo completed successfully! Thank you for trying the Clinical Data Platform.\")"
   ]
  }
 ],
 "metadata": {
  "colab": {
   "provenance": [],
   "toc_visible": true
  },
  "kernelspec": {
   "display_name": "Python 3",
   "name": "python3"
  },
  "language_info": {
   "name": "python"
  }
 },
 "nbformat": 4,
 "nbformat_minor": 0
}